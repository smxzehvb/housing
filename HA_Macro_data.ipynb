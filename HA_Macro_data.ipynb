{
 "cells": [
  {
   "cell_type": "code",
   "execution_count": null,
   "id": "510b02be-eb86-48e5-93a3-66719b3607d9",
   "metadata": {},
   "outputs": [],
   "source": [
    "import numpy as np\n",
    "import pandas as pd\n",
    "import matplotlib\n",
    "import matplotlib.pyplot as plt\n",
    "import seaborn as sns\n",
    "%matplotlib inline\n",
    "matplotlib.style.use('seaborn-whitegrid')"
   ]
  },
  {
   "cell_type": "code",
   "execution_count": null,
   "id": "fcc7ae30-33fa-43e1-8c3b-c5b93d62c226",
   "metadata": {},
   "outputs": [],
   "source": [
    "from pandas_datareader.fred import FredReader\n",
    "import io\n",
    "import requests"
   ]
  },
  {
   "cell_type": "code",
   "execution_count": null,
   "id": "42f78510-6f08-444f-a474-0c9eb66bfe96",
   "metadata": {},
   "outputs": [],
   "source": [
    "from matplotlib.lines import Line2D\n",
    "from matplotlib.patches import Patch\n",
    "\n",
    "def format_plot(ax, recession_dates=None, xgrid=True, augment_legend=False):\n",
    "\n",
    "    if recession_dates is not None:\n",
    "        for idx, s in enumerate(recession_dates[0]):\n",
    "            plt.axvspan(recession_dates[0][idx], recession_dates[1][idx], facecolor='grey', alpha=0.6, zorder=-100)\n",
    "\n",
    "        \n",
    "    if xgrid:\n",
    "        ax.grid(axis='x')\n",
    "\n",
    "    ax.spines[\"bottom\"].set_linewidth(1.5)\n",
    "    ax.spines[\"bottom\"].set_color('k')\n",
    "    ax.spines[\"left\"].set_linewidth(1.5)\n",
    "    ax.spines[\"left\"].set_color('k')\n",
    "    ax.spines[\"right\"].set_linewidth(1.5)\n",
    "    ax.spines[\"right\"].set_color('k')\n",
    "    ax.spines[\"top\"].set_linewidth(1.5)\n",
    "    ax.spines[\"top\"].set_color('k')\n",
    "    \n",
    "\n",
    "    # add legend for recession indicator\n",
    "    handles, labels = ax.get_legend_handles_labels()\n",
    "\n",
    "    if augment_legend:\n",
    "        \n",
    "        if recession_dates is not None:\n",
    "            handles.append(Patch(facecolor='grey',))\n",
    "            labels.append(\"Recession indicator\")\n",
    "    return handles, labels  "
   ]
  },
  {
   "cell_type": "markdown",
   "id": "2f9b8c53-174d-418d-8e34-6674c6799fef",
   "metadata": {},
   "source": [
    "## Get the data\n",
    "For our study, we need:\n",
    "\n",
    "* Housing price index\n",
    "* household income or wages\n",
    "* labor force participation\n",
    "  \n",
    "For context in the plots, we also want recession information.\n",
    "<br>\n",
    "\n",
    "### Data source: \n",
    "\n",
    "![image.png](https://fred.stlouisfed.org/images/fred-logo-2x.png)\n",
    "<br>\n",
    "\n",
    "We can use the handy FredReader class from the [pandas-datareader](https://pandas-datareader.readthedocs.io/en/latest/index.html) package!"
   ]
  },
  {
   "cell_type": "code",
   "execution_count": null,
   "id": "023a3b5a-56b7-444c-abad-6b79acc6c6bb",
   "metadata": {},
   "outputs": [],
   "source": [
    "default_start_date = '1972-01-01'"
   ]
  },
  {
   "cell_type": "markdown",
   "id": "7a583f9e-f592-437b-8135-f512a6655256",
   "metadata": {},
   "source": [
    "## recession data"
   ]
  },
  {
   "cell_type": "code",
   "execution_count": null,
   "id": "16b16546-dde6-485b-a01c-00230a6af9f0",
   "metadata": {},
   "outputs": [],
   "source": [
    "recession = FredReader('USREC', start='1955-01-01').read()\n",
    "recession['starts'] = (recession.USREC- recession.USREC.shift(1) ==1)\n",
    "recession['ends'] = (recession.USREC- recession.USREC.shift(1) ==-1)"
   ]
  },
  {
   "cell_type": "code",
   "execution_count": null,
   "id": "be4184b2-f117-484e-8d2d-ee5b9643bfbe",
   "metadata": {},
   "outputs": [],
   "source": [
    "starts = recession.index[recession['starts']==1].to_list()\n",
    "ends = recession.index[recession['ends']==1].to_list()\n",
    "#ends = ends[1:]"
   ]
  },
  {
   "cell_type": "code",
   "execution_count": null,
   "id": "72c75712-b247-4fb4-84f0-e460c5a861c7",
   "metadata": {},
   "outputs": [],
   "source": [
    "starts"
   ]
  },
  {
   "cell_type": "code",
   "execution_count": null,
   "id": "058f01b6-f2b8-494f-9a3d-3132286e0a04",
   "metadata": {},
   "outputs": [],
   "source": [
    "ends"
   ]
  },
  {
   "cell_type": "markdown",
   "id": "1edbaaeb-690f-4ff3-8809-729010bfc091",
   "metadata": {},
   "source": [
    "# labor force participation data"
   ]
  },
  {
   "cell_type": "code",
   "execution_count": null,
   "id": "9835de7e-d3e6-42bc-97e2-c48b98181a9d",
   "metadata": {},
   "outputs": [],
   "source": [
    "#Labor Force Participation Rate (CIVPART)\n",
    "labor_part = FredReader('CIVPART', start=default_start_date).read().squeeze()/100\n",
    "labor_part_m = labor_part.resample('M').mean()\n",
    "labor_part = labor_part.resample('Y').mean()"
   ]
  },
  {
   "cell_type": "code",
   "execution_count": null,
   "id": "4bc9b3fb-87c8-4a07-93f8-1c4c7f570b25",
   "metadata": {},
   "outputs": [],
   "source": [
    "labor_part.head()"
   ]
  },
  {
   "cell_type": "code",
   "execution_count": null,
   "id": "9187013b-62a6-4d3f-be78-6c862e08e376",
   "metadata": {},
   "outputs": [],
   "source": [
    "# Labor Force Participation Rate - 25-54 Yrs. (LNS11300060)\n",
    "labor_part_prime = (FredReader('LNS11300060', start=default_start_date).read().squeeze()/100).resample('Y').mean()\n",
    "labor_part_prime.head()"
   ]
  },
  {
   "cell_type": "code",
   "execution_count": null,
   "id": "d14719d3-b815-451e-8b43-8d133bbbfba6",
   "metadata": {},
   "outputs": [],
   "source": [
    "#Labor Force Participation Rate - 55 Yrs. & over (LNS11324230)\n",
    "\n",
    "labor_part_older =  (FredReader('LNS11324230', start=default_start_date).read().squeeze()/100).resample('Y').mean()\n",
    "labor_part_older.head()"
   ]
  },
  {
   "cell_type": "code",
   "execution_count": null,
   "id": "f1011220-fbef-434c-8211-5423b833eae8",
   "metadata": {},
   "outputs": [],
   "source": [
    "import matplotlib.ticker as plticker\n",
    "\n"
   ]
  },
  {
   "cell_type": "code",
   "execution_count": null,
   "id": "3dc47bc2-3c84-4788-9cab-81faeccfc677",
   "metadata": {},
   "outputs": [],
   "source": [
    "ax = labor_part_m.plot(figsize = (7,4), lw=0, label='__none__')\n",
    "labor_part_prime.plot(ax=ax, label='prime age', lw=2)\n",
    "\n",
    "labor_part.plot(ax=ax, label='all civilian', lw=2)\n",
    "labor_part_older.plot(ax=ax, label='older workers', lw=2)\n",
    "\n",
    "ax.tick_params(axis='both', which='major', labelsize=12)\n",
    "handles, labels = format_plot(ax, recession_dates=[starts, ends], augment_legend=True )\n",
    "legend = plt.legend(handles, labels, fontsize=11, frameon=True, bbox_to_anchor=(.2,.2))\n",
    "plt.setp(legend.get_title(),fontsize=12)\n",
    "plt.title('Annual Labor Force Participation Trends since 1972', size=13)\n",
    "plt.ylabel('Rate', size=12)\n",
    "plt.xlabel('Year', size=12)\n"
   ]
  },
  {
   "cell_type": "markdown",
   "id": "d8b573fe-3917-4236-b271-86e77e4d4c16",
   "metadata": {},
   "source": [
    "# monthly housing expense (eg mortgage)\n",
    "\n",
    "## Realtor.com model: \n",
    "\n",
    "https://www.nar.realtor/sites/default/files/2025-03/hai-01-2025-housing-affordability-index-2025-03-14.pdf\n",
    "\n",
    "The Housing Affordability Index measures whether or not a typical family earns enough income to qualify for a mortgage loan on a typical home at the national and regional levels based on the most recent price and income data.\r\n",
    "\r\n",
    "Housing Affordability Index data are provided by NAR solely for use as a reference. No part of the data may be reproduced, stored in a retrieval system, transmitted or redistributed in any form or by any means, electronic, mechanical, photocopying, recording or otherwise, without NAR's prior written consent for those who are not members of NA\n",
    "\n",
    "## calc basics\n",
    "Home price (-20% down), with the mortgage rate, then figure monthly principal+interest payment, and compare to household income\n",
    "\n",
    "The Realtor.com *data* is prorprotery, but nothing prevents us from re-creating the calculations. If you are a private household, trying to figure out your household budget, this is exactly what you would do. Can't see how there would be any restriction to use this in research.R."
   ]
  },
  {
   "cell_type": "code",
   "execution_count": null,
   "id": "2fa1f976-b584-433c-a369-e72463a5eefc",
   "metadata": {},
   "outputs": [],
   "source": [
    "#MORTGAGE30US\n",
    "\n",
    "mrates30 = FredReader('MORTGAGE30US', start=1972).read().squeeze()/100\n",
    "mrates30 = mrates30.resample('Y').mean()\n",
    "mrates30.head()"
   ]
  },
  {
   "cell_type": "code",
   "execution_count": null,
   "id": "a539b0bd-59f4-46ba-afa8-410c4611c226",
   "metadata": {},
   "outputs": [],
   "source": [
    "ax = mrates30.plot(lw=2, figsize = (7,4))\n",
    "plt.xlabel('YEAR', size=11)\n",
    "plt.ylabel('Rate', size=11)\n",
    "plt.title('30-year Mortgage Rates', size=13)\n",
    "ax.tick_params(axis='both', which='major', labelsize=11)\n",
    "#handles, labels = format_plot(ax, recession_dates=[starts, ends], augment_legend=True )"
   ]
  },
  {
   "cell_type": "code",
   "execution_count": null,
   "id": "5f8e8386-6a0e-43ec-b1cb-cec040b6eab8",
   "metadata": {},
   "outputs": [],
   "source": [
    "sale_price = FredReader('MSPUS', start=1972).read().squeeze()/1000\n",
    "sale_price.head()\n",
    "sale_price_annual = sale_price.resample('Y').mean() \n",
    "sale_price_annual.plot(lw=2, figsize = (7,4))\n",
    "\n",
    "plt.xlabel('YEAR', size=12)\n",
    "plt.ylabel('Price ($thousand)', size=12)\n",
    "plt.title('House Prices (Nominal dollars)', size=13)\n",
    "ax.tick_params(axis='both', which='major', labelsize=11)"
   ]
  },
  {
   "cell_type": "code",
   "execution_count": null,
   "id": "5d2538c7-68ac-48f4-b81d-f1f2f5823fd2",
   "metadata": {},
   "outputs": [],
   "source": [
    "def mort_payment(Price, i, y=30, down=0.2):\n",
    "    payment = (Price*(1-down) ) * ( i/12*(1+i/12)**(12*y) )/ ((1+i/12)**(12*y) -1)\n",
    "    return payment"
   ]
  },
  {
   "cell_type": "markdown",
   "id": "f035a60a-4c28-425f-bb85-c93d3eacd5eb",
   "metadata": {},
   "source": [
    "$$ \\frac{i/12 \\times (1+i/12)^{12y}}{(1+i/12)^{12y}-1}$$"
   ]
  },
  {
   "cell_type": "code",
   "execution_count": null,
   "id": "1d55805f-5b1c-4daa-a4d0-9632af8982ce",
   "metadata": {},
   "outputs": [],
   "source": [
    "# test\n",
    "# mort_payment(360000, .07)\n",
    "# 1916.0711861160453"
   ]
  },
  {
   "cell_type": "code",
   "execution_count": null,
   "id": "4515662d-4f4e-4c20-8003-d1b0e05e564c",
   "metadata": {},
   "outputs": [],
   "source": [
    "mortgage_df = pd.concat([sale_price_annual, mrates30], axis=1)\n",
    "mortgage_df.dropna(inplace=True)\n",
    "mortgage_df.columns = [\"MedHomePrice(Th$)\", \"30yrMortRate\"]"
   ]
  },
  {
   "cell_type": "code",
   "execution_count": null,
   "id": "1a52e373-1ddc-43fe-8943-c53d9cd304eb",
   "metadata": {},
   "outputs": [],
   "source": [
    "mortgage_df[\"MonthlyPayment($)\"] = mortgage_df.apply(lambda row: mort_payment(row[\"MedHomePrice(Th$)\"]*1000, row[\"30yrMortRate\"]), axis=1)"
   ]
  },
  {
   "cell_type": "code",
   "execution_count": null,
   "id": "14222076-6781-4462-9028-eb8e4f986e08",
   "metadata": {},
   "outputs": [],
   "source": [
    "mortgage_df.head()"
   ]
  },
  {
   "cell_type": "code",
   "execution_count": null,
   "id": "590ac087-3a1d-498e-8a6c-6ee017f98aa5",
   "metadata": {},
   "outputs": [],
   "source": [
    "# These are in nominal dollars. the house price was in nominal;\n",
    "mortgage_df.tail()"
   ]
  },
  {
   "cell_type": "code",
   "execution_count": null,
   "id": "e8817682-0632-491a-89ff-fc408403da52",
   "metadata": {},
   "outputs": [],
   "source": [
    "mortgage_df['MonthlyPayment($)'].plot(lw=2, color='r', figsize = (7,4))\n",
    "\n",
    "plt.xlabel('YEAR', size=11)\n",
    "plt.ylabel('Payment ($)', size=11)\n",
    "plt.title('Monthly Mortgage Payments (Nominal dollars)', size=13)\n",
    "ax.tick_params(axis='both', which='major', labelsize=11)"
   ]
  },
  {
   "cell_type": "markdown",
   "id": "d7aae1f1-9ab5-410a-9548-07d401132dda",
   "metadata": {},
   "source": [
    "# income data"
   ]
  },
  {
   "cell_type": "code",
   "execution_count": null,
   "id": "d0723179-c158-4c7a-83d5-fec440feaa5e",
   "metadata": {},
   "outputs": [],
   "source": [
    "# MEHOINUSA646N nominal income\n",
    "# only avaiable since 1984\n",
    "\n",
    "med_income =  FredReader('MEHOINUSA646N', start=1984).read().squeeze()/12\n",
    "med_income.index = pd.date_range(\"1984\", periods=med_income.shape[0], freq ='A-DEC')\n",
    "med_income.name = \"MedianHHMonthlyIncome($)\"\n",
    "med_income.head()"
   ]
  },
  {
   "cell_type": "code",
   "execution_count": null,
   "id": "e87edace-86df-4233-9032-72b9318f3d3f",
   "metadata": {},
   "outputs": [],
   "source": [
    "med_income.tail()"
   ]
  },
  {
   "cell_type": "code",
   "execution_count": null,
   "id": "b8cb636b-4c67-4d0a-886f-65dcee103a11",
   "metadata": {},
   "outputs": [],
   "source": [
    "mortgage_df = pd.concat([mortgage_df, med_income], axis=1)\n",
    "mortgage_df.dropna(inplace=True)\n",
    "mortgage_df.head()"
   ]
  },
  {
   "cell_type": "code",
   "execution_count": null,
   "id": "49cce7da-ca82-4c51-a41f-54755f1689d1",
   "metadata": {},
   "outputs": [],
   "source": [
    "mortgage_df['MedianHHMonthlyIncome($)'].plot(lw=2, color='g', figsize = (6,4))\n",
    "\n",
    "plt.xlabel('YEAR', size=11)\n",
    "plt.ylabel('Income ($)', size=11)\n",
    "plt.title('Median Monthly HH Income (Nominal dollars)', size=13)\n",
    "ax.tick_params(axis='both', which='major', labelsize=11)"
   ]
  },
  {
   "cell_type": "code",
   "execution_count": null,
   "id": "786639ca-891d-4e47-a0bd-d7893cc66d09",
   "metadata": {},
   "outputs": [],
   "source": [
    "# finally, create the ratio\n",
    "mortgage_df['MortgageIncomeRatio'] = mortgage_df['MonthlyPayment($)']/mortgage_df['MedianHHMonthlyIncome($)']"
   ]
  },
  {
   "cell_type": "code",
   "execution_count": null,
   "id": "d9059b83-f388-4f16-a359-5df458c20a0e",
   "metadata": {},
   "outputs": [],
   "source": [
    "mortgage_df.head()"
   ]
  },
  {
   "cell_type": "code",
   "execution_count": null,
   "id": "61815ef8-dcef-4d21-82bd-0f5290386fb1",
   "metadata": {},
   "outputs": [],
   "source": [
    "mortgage_df.tail()"
   ]
  },
  {
   "cell_type": "code",
   "execution_count": null,
   "id": "c62ab205-467f-40f3-a909-6461674d8396",
   "metadata": {},
   "outputs": [],
   "source": [
    "ax= mortgage_df.MortgageIncomeRatio.plot(figsize=(7.5,5),lw=2, color='b')\n",
    "(labor_part_prime.loc['1984':]-.6).plot(ax=ax, color='orange', lw=2)\n",
    "plt.xlabel('YEAR', size=12)\n",
    "plt.ylabel('Ratio', size=12)\n",
    "plt.title('Ratio Mortgage Payment to Monthly HH Income', size=14)\n",
    "ax.tick_params(axis='both', which='major', labelsize=11)\n"
   ]
  },
  {
   "cell_type": "code",
   "execution_count": null,
   "id": "f409181c-b657-4dd2-8781-aae62ebebe48",
   "metadata": {},
   "outputs": [],
   "source": [
    "ax = labor_part_prime.loc['1984':].plot(figsize = (7.5,5), label='all civilian', lw=2)"
   ]
  },
  {
   "cell_type": "code",
   "execution_count": null,
   "id": "4e61f87a-11c3-4935-97ed-96dfb0b37bf9",
   "metadata": {},
   "outputs": [],
   "source": []
  },
  {
   "cell_type": "code",
   "execution_count": null,
   "id": "bfb56796-1e16-4ea9-8a1c-3e40aed6be91",
   "metadata": {},
   "outputs": [],
   "source": []
  },
  {
   "cell_type": "code",
   "execution_count": null,
   "id": "130aa44d-5ed5-4c48-8497-6746cea989dc",
   "metadata": {},
   "outputs": [],
   "source": [
    "# maybe do some kind of \"phillips curve\"\n",
    "# HPI on y-axis or change in HPI (accelerationist)\n",
    "# LFP on x axis\n",
    "# like inflation/unemployment"
   ]
  },
  {
   "cell_type": "code",
   "execution_count": null,
   "id": "4c2b5322-9890-4e32-b711-9aca530b0b20",
   "metadata": {},
   "outputs": [],
   "source": [
    "import statsmodels.api as sm\n",
    "from statsmodels.graphics.regressionplots import abline_plot"
   ]
  },
  {
   "cell_type": "code",
   "execution_count": null,
   "id": "85fb428b-d08c-47be-b068-e1a71943f7e6",
   "metadata": {},
   "outputs": [],
   "source": []
  },
  {
   "cell_type": "code",
   "execution_count": null,
   "id": "a5ef8b1d-40b4-4522-b0cf-aec2b1bf4e8f",
   "metadata": {},
   "outputs": [],
   "source": [
    "phil_data = pd.concat([labor_part_prime, mortgage_df['MortgageIncomeRatio'] ], axis=1)\n",
    "phil_data.dropna(inplace=True)\n",
    "phil_data.columns = ['LFP', 'HAI']"
   ]
  },
  {
   "cell_type": "code",
   "execution_count": null,
   "id": "2f3c1fbc-4215-4d26-ab52-16b8d88f9251",
   "metadata": {},
   "outputs": [],
   "source": [
    "phil_data.head()"
   ]
  },
  {
   "cell_type": "code",
   "execution_count": null,
   "id": "40bb655a-3d96-43a1-8698-4212d0107219",
   "metadata": {},
   "outputs": [],
   "source": [
    "mod1 = sm.OLS(phil_data.HAI.loc['1988':], sm.add_constant(phil_data.LFP.loc['1988':]))\n",
    "mod2 = sm.RLM(phil_data.HAI, sm.add_constant(phil_data.LFP))\n",
    "res = mod2.fit()\n",
    "res.summary()"
   ]
  },
  {
   "cell_type": "code",
   "execution_count": null,
   "id": "a3dbb19d-1586-4f66-b552-5f8aeeeccca4",
   "metadata": {},
   "outputs": [],
   "source": [
    "mod1.fit().summary()"
   ]
  },
  {
   "cell_type": "markdown",
   "id": "e724bf63-3d61-4140-a72d-f2cbd6b1f64f",
   "metadata": {},
   "source": [
    "$$ HAI_t = -1.047 + 1.595 LFP_t $$"
   ]
  },
  {
   "cell_type": "code",
   "execution_count": null,
   "id": "ec2594a5-f7e7-4653-8962-3d485984a2bc",
   "metadata": {},
   "outputs": [],
   "source": [
    "ax=phil_data.plot.scatter(x='LFP', y='HAI', color='k', s=30)\n",
    "phil_data.loc[:'1988'].plot.scatter(ax=ax, x='LFP', y='HAI', color='r', s=25)\n",
    "_=abline_plot(model_results=mod1.fit(), ax=ax, lw=2, color='r')\n",
    "_=abline_plot(model_results=mod2.fit(), ax=ax, lw=2, color='b')\n",
    "plt.xlabel('Labor Force Participation', size=12)\n",
    "plt.ylabel('Housing Affordability', size=12)\n",
    "plt.title('Housing Affordability \"Phillips\" Curve', size=13)\n",
    "ax.tick_params(axis='both', which='major', labelsize=11)\n",
    "plt.legend(fontsize=12)\n",
    "#plt.text(.817, .401, s= 'HA = -1.047 + 1.595LFP', size=12, color='b', weight=2)"
   ]
  },
  {
   "cell_type": "code",
   "execution_count": null,
   "id": "4af25c6d-7e56-48e6-b1a3-fd8fb377891b",
   "metadata": {},
   "outputs": [],
   "source": [
    "ax=sns.scatterplot(x='LFP', y='HAI', hue=phil_data.index, data=phil_data, legend=False)"
   ]
  },
  {
   "cell_type": "code",
   "execution_count": null,
   "id": "88df6f6b-d802-435b-bc54-41a2b0de2ac3",
   "metadata": {},
   "outputs": [],
   "source": []
  }
 ],
 "metadata": {
  "kernelspec": {
   "display_name": "devel",
   "language": "python",
   "name": "devel"
  },
  "language_info": {
   "codemirror_mode": {
    "name": "ipython",
    "version": 3
   },
   "file_extension": ".py",
   "mimetype": "text/x-python",
   "name": "python",
   "nbconvert_exporter": "python",
   "pygments_lexer": "ipython3",
   "version": "3.11.5"
  }
 },
 "nbformat": 4,
 "nbformat_minor": 5
}
