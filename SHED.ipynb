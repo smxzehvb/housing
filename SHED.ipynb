{
 "cells": [
  {
   "cell_type": "code",
   "execution_count": null,
   "id": "510b02be-eb86-48e5-93a3-66719b3607d9",
   "metadata": {},
   "outputs": [],
   "source": [
    "import numpy as np\n",
    "import pandas as pd\n",
    "import io\n",
    "import requests\n",
    "from statsmodels.formula.api import logit\n",
    "import matplotlib\n",
    "import matplotlib.pyplot as plt\n",
    "%matplotlib inline\n",
    "matplotlib.style.use('seaborn-v0_8-whitegrid')"
   ]
  },
  {
   "cell_type": "markdown",
   "id": "a59f78d8-7c3d-4ef8-9af3-b4fe0fa1aca5",
   "metadata": {},
   "source": [
    "# SHED\n",
    "## Survey of Household Economics and Decisionmaking\n",
    "### Board of Governors of the Federal Reserve Board\n",
    "The report draws from the Board's 11th annual Survey of Household Economics and Decisionmaking, (SHED), which examines the financial lives of U.S. adults and their families. The survey of more than 11,000 adults was conducted in October 2023. The report discusses findings related to financial well-being, income, employment, expenses, banking and credit, housing, higher education and student loans, and retirement and investments.\n",
    "\n",
    "https://www.federalreserve.gov/consumerscommunities/shed_data.htm"
   ]
  },
  {
   "cell_type": "code",
   "execution_count": null,
   "id": "084a6d9f-a552-48f1-b021-75a84d051d3b",
   "metadata": {},
   "outputs": [],
   "source": [
    "site = r'https://www.federalreserve.gov/consumerscommunities/files/SHED_public_use_data_2023_(CSV).zip'\n",
    "s = requests.get(site).content\n",
    "shed = pd.read_csv(io.BytesIO(s), compression='zip', header=0, low_memory=False) \n"
   ]
  },
  {
   "cell_type": "code",
   "execution_count": null,
   "id": "589038a8-7dcd-45af-9272-7e1d7fa2b691",
   "metadata": {},
   "outputs": [],
   "source": [
    "shed.head()"
   ]
  },
  {
   "cell_type": "code",
   "execution_count": null,
   "id": "74865760-2efa-422a-b859-5007e6672f64",
   "metadata": {},
   "outputs": [],
   "source": [
    "shed.shape"
   ]
  },
  {
   "cell_type": "code",
   "execution_count": null,
   "id": "9f0cc7b7-5df4-4574-a17b-d16223742d3e",
   "metadata": {},
   "outputs": [],
   "source": [
    "shed.columns"
   ]
  },
  {
   "cell_type": "code",
   "execution_count": null,
   "id": "99150a84-da4d-4ab6-9611-c5c216513a57",
   "metadata": {},
   "outputs": [],
   "source": []
  },
  {
   "cell_type": "code",
   "execution_count": null,
   "id": "34721719-baaf-437e-97b7-f513ccbd8132",
   "metadata": {},
   "outputs": [],
   "source": [
    "work_col_map = {'D1A': 'work_for_pay', 'D4': 'more_than_one_job', 'D48':'work_more_35hrs_all_jobs',\n",
    "               'D3B':'work_more_35hrs_main_job', 'D1E': 'want_to_work_more', \n",
    "               'D3A': 'work_for_others_or_self_employed', 'D44_f': 'lost_job',\n",
    "                'D44_a': 'asked_for_raise_or_promo', 'D44_b': 'received_raise_or_promo',\n",
    "                'D44_c': 'applied_fore_new_job', 'D44_d': 'started_new_job',\n",
    "                'D44_e': 'vol_left_job', 'D5': 'partner_work_for_pay',\n",
    "                'D49': 'partner_work_more_35hrs', 'ppage': 'Age', 'ppgecat':'Age_category', # 1:18-24; 2:25-34; 3:35-44; 4:45-54; 5,6,7: 55 and over\n",
    "                'ppeduc5': 'Education', 'ppgender': 'Gender', \n",
    "               }\n",
    "work_col = work_col_map.keys()"
   ]
  },
  {
   "cell_type": "code",
   "execution_count": null,
   "id": "1978f011-0bf2-467d-aa9c-9e32fa2bf181",
   "metadata": {},
   "outputs": [],
   "source": [
    "house_col_map = {'GH1': 'housing_type',  # {1: own hokme w mortgage, 2: own home clear, 3: rent, 4: neither own nor rent}\n",
    "                 'R3': 'monthly_rent', \n",
    "                'M4': 'monthly_mortgage', 'pphhsize': 'Household_Size', 'ppkid017': 'Household_num_children',\n",
    "                 'pphouse4':'Structure_Type', # {1: detached single family, 2: condo single family, 3: apartment building, 4: other (mobile home, boathouse, RV/van)}\n",
    "                 'pprent': 'Ownership_Status', # {1: owned or buying, 2: rent for cash, 3: occupied without payment}\n",
    "                }\n",
    "\n",
    "house_col = house_col_map.keys()"
   ]
  },
  {
   "cell_type": "code",
   "execution_count": null,
   "id": "39103221-2800-4194-9ed3-67aee5127545",
   "metadata": {},
   "outputs": [],
   "source": [
    "money_col_map = { 'I40': 'annual_income', 'I41_a': 'earned_income_tax_credit', \n",
    "                  'I41_b': 'SNAP', 'I41_c':'WIC', 'I41_d':'Housing_assistance', \n",
    "                  'I9': 'variable_income', # {1: roughly same, 2: varies a bit, 3: varies a lot}\n",
    "                  'I20': 'total_spending', 'I21_a': 'total_income_vs_last_year',\n",
    "                 'I21_b': 'total_spending_vs_last_year', 'INF4': 'financial_situation_vs_last_year',\n",
    "                 'EF6C_a': 'pay_rent_or_mortgage_full', 'EF6C_a': 'pay_house_utilities_bills_full',\n",
    "                 'atleast_okay': 'doing_ok_financially'\n",
    "    \n",
    "}\n",
    "money_col = money_col_map.keys()"
   ]
  },
  {
   "cell_type": "code",
   "execution_count": null,
   "id": "b44f580a",
   "metadata": {},
   "outputs": [],
   "source": [
    "shed[['GH1']].value_counts()"
   ]
  },
  {
   "cell_type": "code",
   "execution_count": null,
   "id": "bb2825a9-8556-4ca5-a651-d8aaa7008206",
   "metadata": {},
   "outputs": [],
   "source": [
    "shed[['pphouse4']].value_counts()"
   ]
  },
  {
   "cell_type": "code",
   "execution_count": null,
   "id": "dd89d811-d2fd-47df-8c2d-ff0821e95cf2",
   "metadata": {},
   "outputs": [],
   "source": [
    "shed[['pprent']].value_counts()"
   ]
  },
  {
   "cell_type": "markdown",
   "id": "770f3ea9-9035-4968-8f86-a4a2643508d0",
   "metadata": {},
   "source": [
    "# Filter the data"
   ]
  },
  {
   "cell_type": "code",
   "execution_count": null,
   "id": "696f0571-4d89-447e-933e-12fced4202a3",
   "metadata": {},
   "outputs": [],
   "source": [
    "# ignore households who say thei occupy without paying\n",
    "shed_copy = shed[shed['pprent'].str.contains('Owned|Rented')].copy()"
   ]
  },
  {
   "cell_type": "code",
   "execution_count": null,
   "id": "a5a539c9-9923-4e0a-8a99-b9fc27c92e26",
   "metadata": {},
   "outputs": [],
   "source": [
    "# ignore homeoweners who own house free and clear\n",
    "shed_copy = shed_copy[shed_copy['GH1'].str.contains('home with a mortgage|Pay rent')].copy()"
   ]
  },
  {
   "cell_type": "code",
   "execution_count": null,
   "id": "ade6b2a6-517b-4bbb-8b71-2e23db3733bb",
   "metadata": {},
   "outputs": [],
   "source": [
    "shed_copy.shape"
   ]
  },
  {
   "cell_type": "code",
   "execution_count": null,
   "id": "1a8424bf-1124-4ce8-9bf5-34a9f7aee8c4",
   "metadata": {},
   "outputs": [],
   "source": [
    "# ignore non perment structure housing (mobile home, houseboat)\n",
    "shed_copy = shed_copy[shed_copy['pphouse4'] != 'Other (mobile home, boat, RV, van, etc.)'].copy()\n",
    "shed_copy.shape"
   ]
  },
  {
   "cell_type": "code",
   "execution_count": null,
   "id": "52d3b2e1-a4e3-4ac4-bcc3-39eae247432f",
   "metadata": {},
   "outputs": [],
   "source": [
    "# focus on prime age households\n",
    "# people not retired\n",
    "# not full-time students\n",
    "shed_copy = shed_copy[(shed_copy['ppage'] >24) & (shed_copy['ppage'] <55)].copy()\n",
    "print(shed_copy.shape)\n",
    "shed_copy = shed_copy[(shed_copy['D22_i'] !='Yes') ].copy()\n",
    "print(shed_copy.shape)\n",
    "shed_copy = shed_copy[(shed_copy['D22_h'] !='Yes') ].copy()\n",
    "print(shed_copy.shape)"
   ]
  },
  {
   "cell_type": "code",
   "execution_count": null,
   "id": "d671fc14-6fdb-4941-96d0-4dbdf7dee356",
   "metadata": {},
   "outputs": [],
   "source": [
    "# housing assisatnce, WIC, SNAP, housing assistance 'I41_d'\n",
    "shed_copy = shed_copy[(shed_copy['I41_b'] =='No') & (shed_copy['I41_c'] =='No') &  (shed_copy['I41_d'] =='No')].copy()\n",
    "shed_copy.shape"
   ]
  },
  {
   "cell_type": "code",
   "execution_count": null,
   "id": "aef2cc3b-adb7-4292-af3d-16f84d00c7df",
   "metadata": {},
   "outputs": [],
   "source": [
    "# CLEAN the data. remove househodl who report payng less than $300 mortgage, less than $150 rent\n",
    "# decioded by lookng at the hist of rent/mortgage, picking something reasonable\n"
   ]
  },
  {
   "cell_type": "code",
   "execution_count": null,
   "id": "86cd12b3-f45e-47a9-852c-da613faeeea7",
   "metadata": {},
   "outputs": [],
   "source": [
    "shed_copy = shed_copy[(shed_copy['M4'] >20) | (shed_copy['R3'] >20) ].copy()\n",
    "shed_copy.shape"
   ]
  },
  {
   "cell_type": "code",
   "execution_count": null,
   "id": "f0940363-1bd8-47e3-8949-5f43b57f53f2",
   "metadata": {},
   "outputs": [],
   "source": [
    "# remove teh top income bracket bc we don't have a mid-point\n",
    "shed_copy = shed_copy[(shed_copy['I40'] !='$200,000 or more') ].copy()\n",
    "shed_copy.shape"
   ]
  },
  {
   "cell_type": "code",
   "execution_count": null,
   "id": "bd0fb704-37d0-4bc3-922a-a0e4b1a93d12",
   "metadata": {},
   "outputs": [],
   "source": [
    "# remove teh top income bracket bc we don't have a mid-point\n",
    "shed_copy = shed_copy[(shed_copy['I40'] !='Less than $5,000') ].copy()\n",
    "shed_copy.shape"
   ]
  },
  {
   "cell_type": "code",
   "execution_count": null,
   "id": "074eeef3-bd94-4178-bbfa-e627dee698be",
   "metadata": {},
   "outputs": [],
   "source": [
    "shed_copy['I40'].value_counts()"
   ]
  },
  {
   "cell_type": "code",
   "execution_count": null,
   "id": "7f4f0a05-e5e4-40f5-a0b7-fa315b74706b",
   "metadata": {},
   "outputs": [],
   "source": []
  },
  {
   "cell_type": "code",
   "execution_count": null,
   "id": "290c4354-aedc-40ce-a896-705577d16356",
   "metadata": {},
   "outputs": [],
   "source": [
    "# work for pay\n",
    "shed_copy['D1A'].value_counts(dropna=False)"
   ]
  },
  {
   "cell_type": "code",
   "execution_count": null,
   "id": "abdb516c-f0e3-4d60-919b-6ff0bba27dde",
   "metadata": {},
   "outputs": [],
   "source": [
    "shed_copy['works_for_pay'] = ((shed_copy['D1A']=='Yes')).astype(int)\n",
    "shed_copy['Want_work_more'] = ( (shed_copy['D1E']=='Yes')).astype(int)"
   ]
  },
  {
   "cell_type": "code",
   "execution_count": null,
   "id": "351cb093-e52e-40b3-a5e9-ef0611a7619c",
   "metadata": {},
   "outputs": [],
   "source": [
    "shed_copy['works_more_35hrs'] = ( (shed_copy['D48']=='Yes') | (shed_copy['D3B']=='Yes')).astype(int)\n",
    "shed_copy['works_multiple_jobs'] = ( (shed_copy['D4']=='Yes')).astype(int)\n",
    "shed_copy['asked_for_raise'] = ( (shed_copy['D44_a']=='Yes')).astype(int)"
   ]
  },
  {
   "cell_type": "code",
   "execution_count": null,
   "id": "0a359807-6080-48cb-ade7-6c16a7188ebb",
   "metadata": {},
   "outputs": [],
   "source": [
    "shed_copy['applied_or_started_new_job'] = ( (shed_copy['D44_c']=='Yes') | (shed_copy['D44_d']=='Yes')).astype(int)"
   ]
  },
  {
   "cell_type": "code",
   "execution_count": null,
   "id": "6e460498-975f-4c2a-9b3d-1abe98152120",
   "metadata": {},
   "outputs": [],
   "source": []
  },
  {
   "cell_type": "code",
   "execution_count": null,
   "id": "b9f2157a-3ccc-4d3b-b5e7-4dbb14712831",
   "metadata": {},
   "outputs": [],
   "source": []
  },
  {
   "cell_type": "code",
   "execution_count": null,
   "id": "2ac8d7a1-2511-4f7c-9fca-302897dd44b0",
   "metadata": {},
   "outputs": [],
   "source": [
    "ax = shed_copy.R3.hist(bins=37, color='cadetblue')\n",
    "plt.title('Histogram of Monthly Rents', size=13)\n",
    "plt.xlabel('Dollars', size=12)\n",
    "plt.ylabel('Count', size=12)\n",
    "ax.tick_params(axis='both', which='major', labelsize=11)\n",
    "\n",
    "plt.axvline(shed_copy.R3.median(), color='k', label='median')\n",
    "plt.axvline(shed_copy.R3.mean(), color='k', ls='--', label='mean')\n",
    "\n",
    "plt.axvline(shed_copy.R3.quantile(.25), color='b', label='middle 50%')\n",
    "plt.axvline(shed_copy.R3.quantile(.75), color='b')\n",
    "plt.legend(fontsize=12)"
   ]
  },
  {
   "cell_type": "code",
   "execution_count": null,
   "id": "70ebc6a9-22db-441c-b56c-b689760e1c2f",
   "metadata": {},
   "outputs": [],
   "source": [
    "shed_copy.R3.describe()"
   ]
  },
  {
   "cell_type": "code",
   "execution_count": null,
   "id": "eb052365-3dd4-4936-82fc-e4d564eba591",
   "metadata": {},
   "outputs": [],
   "source": [
    "shed_copy.R3.value_counts(dropna=False)"
   ]
  },
  {
   "cell_type": "code",
   "execution_count": null,
   "id": "8044abfb-5fb6-47b7-9328-b05950c2c735",
   "metadata": {},
   "outputs": [],
   "source": [
    "shed_copy.M4.describe()\n"
   ]
  },
  {
   "cell_type": "code",
   "execution_count": null,
   "id": "8406f2cf-0e0c-4cae-9cd9-734deed20e7b",
   "metadata": {},
   "outputs": [],
   "source": [
    "ax = shed_copy.M4.hist(bins=45, color='mediumpurple')\n",
    "plt.title('Histogram of Monthly Mortgages', size=13)\n",
    "plt.xlabel('Dollars', size=12)\n",
    "plt.ylabel('Count', size=12)\n",
    "ax.tick_params(axis='both', which='major', labelsize=11)\n",
    "\n",
    "plt.axvline(shed_copy.M4.median(), color='k', label='median')\n",
    "plt.axvline(shed_copy.M4.mean(), color='k', ls='--', label='mean')\n",
    "\n",
    "plt.axvline(shed_copy.M4.quantile(.25), color='b', label='middle 50%')\n",
    "plt.axvline(shed_copy.M4.quantile(.75), color='b')\n",
    "plt.legend(fontsize=12)"
   ]
  },
  {
   "cell_type": "code",
   "execution_count": null,
   "id": "50145c28-15d0-49cf-838c-3bb4157015df",
   "metadata": {},
   "outputs": [],
   "source": [
    "income =shed_copy.I40.copy()\n",
    "\n",
    "shed['income'] = income.str.replace('$', '')\n",
    "shed['income'].value_counts()"
   ]
  },
  {
   "cell_type": "code",
   "execution_count": null,
   "id": "f8784cda-39ac-4c64-ab3d-6c16a540ba0d",
   "metadata": {},
   "outputs": [],
   "source": [
    "dollar_order = ['5,000 to 9,999', '10,000 to 14,999', '15,000 to 19,999', \n",
    "               '20,000 to 24,999', '25,000 to 29,999', '30,000 to 34,999', '35,000 to 39,999',\n",
    "               '40,000 to 49,999', '50,000 to 59,999', '60,000 to 74,999', '75,000 to 99,999',\n",
    "               '100,000 to 149,999', '150,000 to 199,999']#, '200,000 or more']\n"
   ]
  },
  {
   "cell_type": "code",
   "execution_count": null,
   "id": "037ea7f7-3cdd-4c8a-82dc-c43fc238d9aa",
   "metadata": {},
   "outputs": [],
   "source": [
    "shed['income'][~shed['R3'].isna()].value_counts()[dollar_order].plot.bar(color='cadetblue')\n",
    "plt.title('Barplot of Income Brackets for Renters', size=13)\n",
    "plt.xlabel('Dollars', size=12)\n",
    "plt.ylabel('Count', size=12)\n",
    "ax.tick_params(axis='both', which='major', labelsize=11)"
   ]
  },
  {
   "cell_type": "code",
   "execution_count": null,
   "id": "09ae0b14-a0f9-49a9-8456-9b959b5f74e8",
   "metadata": {},
   "outputs": [],
   "source": [
    "shed['income'][~shed['M4'].isna()].value_counts()[dollar_order].plot.bar(color='mediumpurple')\n",
    "plt.title('Barplot of Income Brackets for Homeowners', size=13)\n",
    "plt.xlabel('Dollars', size=12)\n",
    "plt.ylabel('Count', size=12)\n",
    "ax.tick_params(axis='both', which='major', labelsize=11)"
   ]
  },
  {
   "cell_type": "code",
   "execution_count": null,
   "id": "6dbdfa1f-d4ce-48ad-aa9f-cc7fb4f0c125",
   "metadata": {},
   "outputs": [],
   "source": []
  },
  {
   "cell_type": "code",
   "execution_count": null,
   "id": "264f7589-5be5-4fcb-8ac8-e83266f6ed89",
   "metadata": {},
   "outputs": [],
   "source": [
    "def get_midpoint(row):\n",
    "    \n",
    "    points = row.split(' to ')\n",
    "\n",
    "    if points[0] == '200,000 or more':\n",
    "        return 250000/12\n",
    "\n",
    "    elif points[0] == 'Less than 5,000':\n",
    "        return 2500/12\n",
    "        \n",
    "    else: \n",
    "        return (1+int(points[1].replace(',','').replace('$','')) + int(points[0].replace(',','').replace('$','')) )/24."
   ]
  },
  {
   "cell_type": "code",
   "execution_count": null,
   "id": "ff5403c1-cfef-450d-b11d-2e6afb328835",
   "metadata": {},
   "outputs": [],
   "source": [
    "monthly_income_midpoint = income.apply(get_midpoint)\n",
    "shed_copy['monthly_income_midpoint'] = shed_copy.I40.str.replace('$', '').apply(get_midpoint)"
   ]
  },
  {
   "cell_type": "code",
   "execution_count": null,
   "id": "292c4d81-8849-4cb7-9363-fc15f833802e",
   "metadata": {},
   "outputs": [],
   "source": [
    "monthly_rent_to_income = 100*(shed_copy.R3/monthly_income_midpoint)"
   ]
  },
  {
   "cell_type": "code",
   "execution_count": null,
   "id": "56dd68ae-a6f4-4290-84a0-c713f54731ff",
   "metadata": {},
   "outputs": [],
   "source": []
  },
  {
   "cell_type": "code",
   "execution_count": null,
   "id": "7ed83acd-d982-463b-9969-3d4c379803ff",
   "metadata": {},
   "outputs": [],
   "source": []
  },
  {
   "cell_type": "code",
   "execution_count": null,
   "id": "7ddac149-b555-4fc2-9c5f-ca3e48b7a9e8",
   "metadata": {},
   "outputs": [],
   "source": [
    "monthly_mort_to_income = 100*(shed_copy.M4/monthly_income_midpoint)"
   ]
  },
  {
   "cell_type": "code",
   "execution_count": null,
   "id": "5ade13ea-b02c-42f9-ab92-6878b315c38e",
   "metadata": {},
   "outputs": [],
   "source": [
    "monthly_mort_to_income.describe()"
   ]
  },
  {
   "cell_type": "code",
   "execution_count": null,
   "id": "4d448bae-eacf-4c38-91b3-87c013c3f777",
   "metadata": {},
   "outputs": [],
   "source": [
    "shed_copy['monthly_mort_to_income'] = monthly_mort_to_income\n",
    "shed_copy['monthly_rent_to_income'] = monthly_rent_to_income\n"
   ]
  },
  {
   "cell_type": "code",
   "execution_count": null,
   "id": "37c93a78-2b58-4193-9b81-8bf5603b1604",
   "metadata": {},
   "outputs": [],
   "source": [
    "monthly_rent_to_income.describe()"
   ]
  },
  {
   "cell_type": "code",
   "execution_count": null,
   "id": "d6a05201-4f76-4650-bcd4-e837632b7558",
   "metadata": {},
   "outputs": [],
   "source": [
    "monthly_rent_to_income.describe()"
   ]
  },
  {
   "cell_type": "code",
   "execution_count": null,
   "id": "f82e659f-fbc3-4cc4-9ac0-8a85df8705bb",
   "metadata": {},
   "outputs": [],
   "source": [
    "ax = monthly_mort_to_income.round(0).clip(upper=100).hist(bins=51, alpha=.8, color='b', density=True, label='mortgage')\n",
    "monthly_rent_to_income.round(0).clip(upper=100).hist(ax=ax,bins=51, alpha=.7, color='r', density=True, label='rent')\n",
    "plt.legend(loc='upper center', fontsize=11)\n",
    "plt.title('Mortgage/Rent Expenditure to Income Ratio')\n",
    "plt.ylabel('density')\n",
    "plt.xlabel('ratio (%)')"
   ]
  },
  {
   "cell_type": "code",
   "execution_count": null,
   "id": "70f7cb5f-cbbc-4225-9415-868b0ecdc8c2",
   "metadata": {},
   "outputs": [],
   "source": [
    "# filter out hosueholds who spend more then 70% income on housing\n",
    "shed_copy = shed_copy[(shed_copy['monthly_rent_to_income'] <80) | (shed_copy['monthly_mort_to_income'] <80)].copy()\n",
    "shed_copy.shape"
   ]
  },
  {
   "cell_type": "code",
   "execution_count": null,
   "id": "5c5c797c-dc0d-4cef-8c3b-fa9729753611",
   "metadata": {},
   "outputs": [],
   "source": [
    "shed_copy['monthly_rent_to_income'].describe()"
   ]
  },
  {
   "cell_type": "code",
   "execution_count": null,
   "id": "f216c853-4098-425c-8f1c-0ac649136175",
   "metadata": {},
   "outputs": [],
   "source": [
    "shed_copy['monthly_mort_to_income'].describe()"
   ]
  },
  {
   "cell_type": "code",
   "execution_count": null,
   "id": "37e90904-a9c0-4473-9a9c-6d6ac361deee",
   "metadata": {},
   "outputs": [],
   "source": [
    "ax = shed_copy['monthly_mort_to_income'].round(0).hist(bins=33, alpha=.8, color='mediumpurple', density=True, label='mortgage')\n",
    "shed_copy['monthly_rent_to_income'].round(0).hist(ax=ax,bins=31, alpha=.7, color='cadetblue', density=True, label='rent')\n",
    "plt.legend(loc='upper center', fontsize=12)\n",
    "plt.title('Mortgage/Rent Expenditure to Income Ratio')\n",
    "plt.ylabel('density', size=12)\n",
    "plt.xlabel('ratio (%)', size=12)\n",
    "ax.tick_params(axis='both', which='major', labelsize=11)"
   ]
  },
  {
   "cell_type": "code",
   "execution_count": null,
   "id": "e94c4f57-dc2a-442b-bd71-f5fe46dcb90f",
   "metadata": {},
   "outputs": [],
   "source": []
  },
  {
   "cell_type": "code",
   "execution_count": null,
   "id": "97f1eb74-67d0-41b5-9740-2381ac1e8130",
   "metadata": {},
   "outputs": [],
   "source": []
  },
  {
   "cell_type": "code",
   "execution_count": null,
   "id": "3a9fa718-fb40-41ca-a0fd-0eda6394f361",
   "metadata": {},
   "outputs": [],
   "source": []
  },
  {
   "cell_type": "code",
   "execution_count": null,
   "id": "f0ab0630-49da-444d-8ec6-8d4590a78d1a",
   "metadata": {},
   "outputs": [],
   "source": [
    "shed_copy[shed_copy['GH1']!='Pay rent'][['monthly_income_midpoint', 'monthly_mort_to_income'] ].corr()"
   ]
  },
  {
   "cell_type": "code",
   "execution_count": null,
   "id": "fd500d53-a9be-44b4-8924-0301edae6807",
   "metadata": {},
   "outputs": [],
   "source": [
    "plt.scatter( \n",
    "            shed_copy[shed_copy['GH1']!='Pay rent']['monthly_income_midpoint'] , \n",
    "shed_copy[shed_copy['GH1']!='Pay rent']['monthly_mort_to_income'],\n",
    "color='k', marker='.' , alpha=.7, s=40)\n",
    "plt.xlabel('Monthly Income (mid-point of reported income bracket)', size=11)\n",
    "plt.ylabel('Housing Affordability IRM', size=11)\n",
    "plt.title('Simple plot of income vs IRM (Homeowners)', size=12)"
   ]
  },
  {
   "cell_type": "code",
   "execution_count": null,
   "id": "d8341e5f-34df-4728-9efa-f72b982e6ba2",
   "metadata": {},
   "outputs": [],
   "source": []
  },
  {
   "cell_type": "code",
   "execution_count": null,
   "id": "ea0c0a38-e7df-4ad1-8ed2-dfab837ebdbd",
   "metadata": {},
   "outputs": [],
   "source": [
    "work_model = logit(\"Want_work_more ~  monthly_mort_to_income\",# + ppgender + ppkid017 + ppkid017*ppgender\", \n",
    "                   data = shed_copy[shed_copy['GH1']=='Own your home with a mortgage or loan']) \n",
    "result = work_model.fit()\n",
    "result.summary()"
   ]
  },
  {
   "cell_type": "code",
   "execution_count": null,
   "id": "e75569cb",
   "metadata": {},
   "outputs": [],
   "source": [
    "work_model2 = logit(\"Want_work_more ~  monthly_mort_to_income + ppgender + ppkid017 + ppkid017*ppgender + ppmsacat +ppeduc5\", \n",
    "                   data = shed_copy[shed_copy['GH1']=='Own your home with a mortgage or loan']) \n",
    "result2 = work_model2.fit()\n",
    "result2.summary()"
   ]
  },
  {
   "cell_type": "code",
   "execution_count": null,
   "id": "a2d5e369-edc6-4b28-b069-7070a69522c8",
   "metadata": {},
   "outputs": [],
   "source": [
    "ax = shed_copy[shed_copy['GH1']!='Pay rent'].plot.scatter(y='Want_work_more', x= 'monthly_mort_to_income', label='raw data')\n",
    "plt.scatter( shed_copy[shed_copy['GH1']!='Pay rent']['monthly_mort_to_income'], result.predict() , color='r', marker='x', label='fitted values'  )\n",
    "plt.title('Mortgage to Income Ratio vs Want Work More (no/yes)')\n",
    "plt.ylabel('Want Work More', size=12)\n",
    "plt.xlabel('Ratio (%)', size=12)\n",
    "ax.tick_params(axis='both', which='major', labelsize=11)\n",
    "plt.legend(fontsize=12)"
   ]
  },
  {
   "cell_type": "code",
   "execution_count": null,
   "id": "f77d0d70-235b-4ea8-be6b-f138d3cd3af1",
   "metadata": {},
   "outputs": [],
   "source": []
  },
  {
   "cell_type": "code",
   "execution_count": null,
   "id": "5d3bb228-7815-46ca-9151-2fbf091b1c95",
   "metadata": {},
   "outputs": [],
   "source": []
  },
  {
   "cell_type": "code",
   "execution_count": null,
   "id": "60eb8096-7bdf-4d05-a4f8-a6274d6001ad",
   "metadata": {},
   "outputs": [],
   "source": [
    "work_model = logit(\"Want_work_more ~  monthly_rent_to_income\",# + ppgender + ppkid017 + ppkid017*ppgender\", \n",
    "                   data = shed_copy[shed_copy['GH1']=='Pay rent']) \n",
    "result = work_model.fit()\n",
    "result.summary()"
   ]
  },
  {
   "cell_type": "code",
   "execution_count": null,
   "id": "a66bd7e0",
   "metadata": {},
   "outputs": [],
   "source": [
    "work_model2 = logit(\"Want_work_more ~  monthly_rent_to_income + ppgender + ppkid017 + ppkid017*ppgender + ppmsacat +ppeduc5\", \n",
    "                   data = shed_copy[shed_copy['GH1']=='Pay rent']) \n",
    "result2 = work_model2.fit()\n",
    "result2.summary()"
   ]
  },
  {
   "cell_type": "code",
   "execution_count": null,
   "id": "8f8c4c36-3f19-46e6-9715-890507ec3dcd",
   "metadata": {},
   "outputs": [],
   "source": []
  },
  {
   "cell_type": "code",
   "execution_count": null,
   "id": "a606cfda-ec42-4c90-a4dd-5987e1723e26",
   "metadata": {},
   "outputs": [],
   "source": [
    "ax = shed_copy[shed_copy['GH1']=='Pay rent'].plot.scatter(y='Want_work_more', x= 'monthly_rent_to_income', label='raw data')\n",
    "plt.scatter( shed_copy[shed_copy['GH1']=='Pay rent']['monthly_rent_to_income'], result.predict() , color='r', marker='x', label='fitted values'  )\n",
    "#plt.scatter( shed_copy[shed_copy['GH1']=='Pay rent']['monthly_rent_to_income'], result2.predict() , color='m', marker='.', label='fitted values (full model)'  )\n",
    "\n",
    "plt.title('Rent to Income Ratio vs Want Work More (no=0; yes=1)')\n",
    "plt.ylabel('Want Work More', size=12)\n",
    "plt.xlabel('Ratio (%)', size=12)\n",
    "ax.tick_params(axis='both', which='major', labelsize=11)\n",
    "plt.legend(fontsize=12)"
   ]
  },
  {
   "cell_type": "code",
   "execution_count": null,
   "id": "baae37ed-fbe5-441a-9f12-35b739f7a65a",
   "metadata": {},
   "outputs": [],
   "source": []
  },
  {
   "cell_type": "code",
   "execution_count": null,
   "id": "92c95072-0a0f-4784-b1a3-154bb25f9a1b",
   "metadata": {},
   "outputs": [],
   "source": [
    "work_model = logit(\"works_for_pay ~  monthly_mort_to_income\", \n",
    "                   data = shed_copy[shed_copy['GH1']!='Pay rent']) \n",
    "result = work_model.fit()\n",
    "result.summary()"
   ]
  },
  {
   "cell_type": "code",
   "execution_count": null,
   "id": "c903ca36-a222-4d2e-9f7b-da9052319f7d",
   "metadata": {},
   "outputs": [],
   "source": [
    "work_model = logit(\"works_more_35hrs ~  monthly_mort_to_income\", \n",
    "                   data = shed_copy[shed_copy['GH1']!='Pay rent']) \n",
    "result = work_model.fit()\n",
    "result.summary()"
   ]
  },
  {
   "cell_type": "code",
   "execution_count": null,
   "id": "ce7d406b-3d89-4973-9e06-f4517de61b38",
   "metadata": {},
   "outputs": [],
   "source": [
    "work_model = logit(\"works_multiple_jobs ~  monthly_mort_to_income\", \n",
    "                   data = shed_copy[shed_copy['GH1']!='Pay rent']) \n",
    "result = work_model.fit()\n",
    "result.summary()"
   ]
  },
  {
   "cell_type": "code",
   "execution_count": null,
   "id": "cbb3f4a2-69f1-4ba1-a172-ae727cc94e86",
   "metadata": {},
   "outputs": [],
   "source": [
    "work_model = logit(\"asked_for_raise ~  monthly_mort_to_income\", \n",
    "                   data = shed_copy[shed_copy['GH1']!='Pay rent']) \n",
    "result = work_model.fit()\n",
    "result.summary()"
   ]
  },
  {
   "cell_type": "code",
   "execution_count": null,
   "id": "9145d888-3ac1-46eb-bd36-8805e5e001be",
   "metadata": {},
   "outputs": [],
   "source": [
    "work_model = logit(\"applied_or_started_new_job ~  monthly_mort_to_income\", \n",
    "                   data = shed_copy[shed_copy['GH1']!='Pay rent']) \n",
    "result = work_model.fit()\n",
    "result.summary()"
   ]
  },
  {
   "cell_type": "code",
   "execution_count": null,
   "id": "87f08f1f-3f68-4629-8f06-739ba836bd74",
   "metadata": {},
   "outputs": [],
   "source": []
  }
 ],
 "metadata": {
  "kernelspec": {
   "display_name": "devel",
   "language": "python",
   "name": "devel"
  },
  "language_info": {
   "codemirror_mode": {
    "name": "ipython",
    "version": 3
   },
   "file_extension": ".py",
   "mimetype": "text/x-python",
   "name": "python",
   "nbconvert_exporter": "python",
   "pygments_lexer": "ipython3",
   "version": "3.11.5"
  }
 },
 "nbformat": 4,
 "nbformat_minor": 5
}
